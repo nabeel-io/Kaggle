{
 "cells": [
  {
   "cell_type": "code",
   "execution_count": 1,
   "id": "54ba7672-84a3-43c2-8757-4cbdbb5f109e",
   "metadata": {},
   "outputs": [],
   "source": [
    "import tensorflow as tf\n",
    "from tensorflow import keras"
   ]
  },
  {
   "cell_type": "code",
   "execution_count": 23,
   "id": "2c3dc4d3-cb4d-4e4b-b0d7-2ceae665c57b",
   "metadata": {},
   "outputs": [
    {
     "data": {
      "text/plain": [
       "<tf.Tensor: shape=(10,), dtype=int32, numpy=array([0, 1, 2, 3, 4, 5, 6, 7, 8, 9], dtype=int32)>"
      ]
     },
     "execution_count": 23,
     "metadata": {},
     "output_type": "execute_result"
    }
   ],
   "source": [
    "# simple tensor\n",
    "x = tf.range(10)\n",
    "x"
   ]
  },
  {
   "cell_type": "code",
   "execution_count": 24,
   "id": "bb361229-f8d1-4f3e-83e7-42a95bdf5906",
   "metadata": {},
   "outputs": [
    {
     "data": {
      "text/plain": [
       "<TensorSliceDataset element_spec=TensorSpec(shape=(), dtype=tf.int32, name=None)>"
      ]
     },
     "execution_count": 24,
     "metadata": {},
     "output_type": "execute_result"
    }
   ],
   "source": [
    "dataset = tf.data.Dataset.from_tensor_slices(x)\n",
    "dataset"
   ]
  },
  {
   "cell_type": "code",
   "execution_count": 25,
   "id": "8ca96d63-91d5-47f9-960b-4b59c13e9266",
   "metadata": {},
   "outputs": [
    {
     "name": "stdout",
     "output_type": "stream",
     "text": [
      "tf.Tensor(0, shape=(), dtype=int32)\n",
      "tf.Tensor(1, shape=(), dtype=int32)\n",
      "tf.Tensor(2, shape=(), dtype=int32)\n",
      "tf.Tensor(3, shape=(), dtype=int32)\n",
      "tf.Tensor(4, shape=(), dtype=int32)\n",
      "tf.Tensor(5, shape=(), dtype=int32)\n",
      "tf.Tensor(6, shape=(), dtype=int32)\n",
      "tf.Tensor(7, shape=(), dtype=int32)\n",
      "tf.Tensor(8, shape=(), dtype=int32)\n",
      "tf.Tensor(9, shape=(), dtype=int32)\n"
     ]
    }
   ],
   "source": [
    "for item in dataset:\n",
    "    print(item)"
   ]
  },
  {
   "cell_type": "code",
   "execution_count": 26,
   "id": "ab58307e-3a90-4e6b-b73b-8f77c43189ee",
   "metadata": {},
   "outputs": [
    {
     "name": "stdout",
     "output_type": "stream",
     "text": [
      "tf.Tensor([0 1 2 3 4 5 6], shape=(7,), dtype=int32)\n",
      "tf.Tensor([7 8 9 0 1 2 3], shape=(7,), dtype=int32)\n",
      "tf.Tensor([4 5 6 7 8 9], shape=(6,), dtype=int32)\n"
     ]
    }
   ],
   "source": [
    "# chaining \n",
    "# repeats the data but donot make copy\n",
    "dataset = dataset.repeat(2).batch(7)\n",
    "for item in dataset:\n",
    "    print(item)"
   ]
  },
  {
   "cell_type": "code",
   "execution_count": 27,
   "id": "8cc1b96c-828d-4a14-bc64-f28f02787c04",
   "metadata": {},
   "outputs": [
    {
     "name": "stdout",
     "output_type": "stream",
     "text": [
      "tf.Tensor([ 0  2  4  6  8 10 12], shape=(7,), dtype=int32)\n",
      "tf.Tensor([14 16 18  0  2  4  6], shape=(7,), dtype=int32)\n",
      "tf.Tensor([ 8 10 12 14 16 18], shape=(6,), dtype=int32)\n"
     ]
    }
   ],
   "source": [
    "dataset = dataset.map(lambda x:x * 2)\n",
    "for item in dataset:\n",
    "    print(item)"
   ]
  },
  {
   "cell_type": "code",
   "execution_count": 28,
   "id": "a186e43a-69e0-4d10-85e5-397bad82a29f",
   "metadata": {},
   "outputs": [],
   "source": [
    "# unbatching the data\n",
    "dataset = dataset.unbatch()"
   ]
  },
  {
   "cell_type": "code",
   "execution_count": 29,
   "id": "c386790b-6eef-4754-8781-6968211959f4",
   "metadata": {},
   "outputs": [
    {
     "name": "stdout",
     "output_type": "stream",
     "text": [
      "tf.Tensor(0, shape=(), dtype=int32)\n",
      "tf.Tensor(2, shape=(), dtype=int32)\n",
      "tf.Tensor(4, shape=(), dtype=int32)\n",
      "tf.Tensor(6, shape=(), dtype=int32)\n",
      "tf.Tensor(8, shape=(), dtype=int32)\n",
      "tf.Tensor(10, shape=(), dtype=int32)\n",
      "tf.Tensor(12, shape=(), dtype=int32)\n",
      "tf.Tensor(14, shape=(), dtype=int32)\n",
      "tf.Tensor(16, shape=(), dtype=int32)\n",
      "tf.Tensor(18, shape=(), dtype=int32)\n",
      "tf.Tensor(0, shape=(), dtype=int32)\n",
      "tf.Tensor(2, shape=(), dtype=int32)\n",
      "tf.Tensor(4, shape=(), dtype=int32)\n",
      "tf.Tensor(6, shape=(), dtype=int32)\n",
      "tf.Tensor(8, shape=(), dtype=int32)\n",
      "tf.Tensor(10, shape=(), dtype=int32)\n",
      "tf.Tensor(12, shape=(), dtype=int32)\n",
      "tf.Tensor(14, shape=(), dtype=int32)\n",
      "tf.Tensor(16, shape=(), dtype=int32)\n",
      "tf.Tensor(18, shape=(), dtype=int32)\n"
     ]
    }
   ],
   "source": [
    "for item in dataset:\n",
    "    print(item)"
   ]
  },
  {
   "cell_type": "code",
   "execution_count": 30,
   "id": "830f5eea-0808-4f13-a1c3-4afb0a9c6609",
   "metadata": {},
   "outputs": [],
   "source": [
    "# apply is left"
   ]
  },
  {
   "cell_type": "code",
   "execution_count": 31,
   "id": "223ae65d-4552-4086-930f-9421a2ef5e74",
   "metadata": {},
   "outputs": [
    {
     "name": "stdout",
     "output_type": "stream",
     "text": [
      "tf.Tensor(0, shape=(), dtype=int32)\n",
      "tf.Tensor(2, shape=(), dtype=int32)\n",
      "tf.Tensor(4, shape=(), dtype=int32)\n",
      "tf.Tensor(6, shape=(), dtype=int32)\n",
      "tf.Tensor(8, shape=(), dtype=int32)\n"
     ]
    }
   ],
   "source": [
    "dataset = dataset.filter(lambda x: x < 15)\n",
    "for item in dataset.take(5): # take - just print 5 instances\n",
    "    print(item)"
   ]
  },
  {
   "cell_type": "code",
   "execution_count": 32,
   "id": "6b1ca470-e929-47b9-be32-8c023d88783f",
   "metadata": {},
   "outputs": [],
   "source": [
    "import pandas as pd"
   ]
  },
  {
   "cell_type": "code",
   "execution_count": 53,
   "id": "bf185235-0d7c-4ef1-bc95-202a33a43c9f",
   "metadata": {},
   "outputs": [
    {
     "name": "stdout",
     "output_type": "stream",
     "text": [
      "1 chunk is created\n",
      "2 chunk is created\n",
      "3 chunk is created\n",
      "4 chunk is created\n",
      "5 chunk is created\n",
      "6 chunk is created\n",
      "7 chunk is created\n",
      "8 chunk is created\n",
      "9 chunk is created\n",
      "10 chunk is created\n",
      "11 chunk is created\n",
      "12 chunk is created\n",
      "13 chunk is created\n",
      "14 chunk is created\n",
      "15 chunk is created\n",
      "16 chunk is created\n",
      "17 chunk is created\n",
      "18 chunk is created\n",
      "19 chunk is created\n",
      "20 chunk is created\n",
      "21 chunk is created\n"
     ]
    }
   ],
   "source": [
    "i = 1\n",
    "cols = [\"longitude\",\"latitude\",\"housing_median_age\",\"total_rooms\",\"total_bedrooms\",\n",
    "        \"population\",\"households\",\"median_income\",\"median_house_value\"]\n",
    "for chunk in pd.read_csv(\"data/housing.csv\", usecols=cols, chunksize=1000):\n",
    "    if i < 13:\n",
    "        chunk.to_csv(f\"data/train_{i:02d}.csv\", index=False)\n",
    "    elif 13 < i < 16:\n",
    "        chunk.to_csv(f\"data/valid_{i:02d}.csv\", index=False)\n",
    "    else:\n",
    "        chunk.to_csv(f\"data/test_{i:02d}.csv\", index=False)\n",
    "    print(f\"{i} chunk is created\")\n",
    "    i = i + 1"
   ]
  },
  {
   "cell_type": "code",
   "execution_count": 54,
   "id": "f2ca3ccb-14e2-4ff4-abac-0e9e242b7f99",
   "metadata": {},
   "outputs": [],
   "source": [
    "import glob\n",
    "train_filepath = sorted(glob.glob(\"data/*train*\"))\n",
    "valid_filepath = sorted(glob.glob(\"data/*valid*\"))\n",
    "test_filepath = sorted(glob.glob(\"data/*test*\"))"
   ]
  },
  {
   "cell_type": "code",
   "execution_count": 55,
   "id": "5b87c7f5-43fc-4e05-b400-d2f0f165500a",
   "metadata": {},
   "outputs": [
    {
     "data": {
      "text/plain": [
       "['data/train_01.csv',\n",
       " 'data/train_02.csv',\n",
       " 'data/train_03.csv',\n",
       " 'data/train_04.csv',\n",
       " 'data/train_05.csv',\n",
       " 'data/train_06.csv',\n",
       " 'data/train_07.csv',\n",
       " 'data/train_08.csv',\n",
       " 'data/train_09.csv',\n",
       " 'data/train_10.csv',\n",
       " 'data/train_11.csv',\n",
       " 'data/train_12.csv']"
      ]
     },
     "execution_count": 55,
     "metadata": {},
     "output_type": "execute_result"
    }
   ],
   "source": [
    "train_files"
   ]
  },
  {
   "cell_type": "code",
   "execution_count": 56,
   "id": "4f1a45f8-a28a-422a-a7c5-6bb03f56271a",
   "metadata": {},
   "outputs": [
    {
     "data": {
      "text/html": [
       "<div>\n",
       "<style scoped>\n",
       "    .dataframe tbody tr th:only-of-type {\n",
       "        vertical-align: middle;\n",
       "    }\n",
       "\n",
       "    .dataframe tbody tr th {\n",
       "        vertical-align: top;\n",
       "    }\n",
       "\n",
       "    .dataframe thead th {\n",
       "        text-align: right;\n",
       "    }\n",
       "</style>\n",
       "<table border=\"1\" class=\"dataframe\">\n",
       "  <thead>\n",
       "    <tr style=\"text-align: right;\">\n",
       "      <th></th>\n",
       "      <th>longitude</th>\n",
       "      <th>latitude</th>\n",
       "      <th>housing_median_age</th>\n",
       "      <th>total_rooms</th>\n",
       "      <th>total_bedrooms</th>\n",
       "      <th>population</th>\n",
       "      <th>households</th>\n",
       "      <th>median_income</th>\n",
       "      <th>median_house_value</th>\n",
       "    </tr>\n",
       "  </thead>\n",
       "  <tbody>\n",
       "    <tr>\n",
       "      <th>0</th>\n",
       "      <td>-118.13</td>\n",
       "      <td>33.85</td>\n",
       "      <td>36.0</td>\n",
       "      <td>2110.0</td>\n",
       "      <td>416.0</td>\n",
       "      <td>1128.0</td>\n",
       "      <td>403.0</td>\n",
       "      <td>4.6019</td>\n",
       "      <td>208400.0</td>\n",
       "    </tr>\n",
       "    <tr>\n",
       "      <th>1</th>\n",
       "      <td>-118.13</td>\n",
       "      <td>33.85</td>\n",
       "      <td>36.0</td>\n",
       "      <td>1885.0</td>\n",
       "      <td>391.0</td>\n",
       "      <td>1049.0</td>\n",
       "      <td>405.0</td>\n",
       "      <td>3.5500</td>\n",
       "      <td>212800.0</td>\n",
       "    </tr>\n",
       "    <tr>\n",
       "      <th>2</th>\n",
       "      <td>-118.14</td>\n",
       "      <td>33.86</td>\n",
       "      <td>36.0</td>\n",
       "      <td>1774.0</td>\n",
       "      <td>348.0</td>\n",
       "      <td>934.0</td>\n",
       "      <td>333.0</td>\n",
       "      <td>4.8571</td>\n",
       "      <td>203300.0</td>\n",
       "    </tr>\n",
       "    <tr>\n",
       "      <th>3</th>\n",
       "      <td>-118.14</td>\n",
       "      <td>33.86</td>\n",
       "      <td>36.0</td>\n",
       "      <td>1703.0</td>\n",
       "      <td>325.0</td>\n",
       "      <td>845.0</td>\n",
       "      <td>308.0</td>\n",
       "      <td>5.0106</td>\n",
       "      <td>210800.0</td>\n",
       "    </tr>\n",
       "    <tr>\n",
       "      <th>4</th>\n",
       "      <td>-118.10</td>\n",
       "      <td>33.85</td>\n",
       "      <td>28.0</td>\n",
       "      <td>2825.0</td>\n",
       "      <td>470.0</td>\n",
       "      <td>1352.0</td>\n",
       "      <td>469.0</td>\n",
       "      <td>5.2639</td>\n",
       "      <td>242000.0</td>\n",
       "    </tr>\n",
       "  </tbody>\n",
       "</table>\n",
       "</div>"
      ],
      "text/plain": [
       "   longitude  latitude  ...  median_income  median_house_value\n",
       "0    -118.13     33.85  ...         4.6019            208400.0\n",
       "1    -118.13     33.85  ...         3.5500            212800.0\n",
       "2    -118.14     33.86  ...         4.8571            203300.0\n",
       "3    -118.14     33.86  ...         5.0106            210800.0\n",
       "4    -118.10     33.85  ...         5.2639            242000.0\n",
       "\n",
       "[5 rows x 9 columns]"
      ]
     },
     "execution_count": 56,
     "metadata": {},
     "output_type": "execute_result"
    }
   ],
   "source": [
    "pd.read_csv(train_filepath[8]).head()"
   ]
  },
  {
   "cell_type": "code",
   "execution_count": 57,
   "id": "2dda1d3c-69b6-49fb-a7c5-a1f357a21fdd",
   "metadata": {},
   "outputs": [
    {
     "name": "stdout",
     "output_type": "stream",
     "text": [
      "longitude,latitude,housing_median_age,total_rooms,total_bedrooms,population,households,median_income,median_house_value\n",
      "-119.78,36.74,15.0,1461.0,415.0,924.0,356.0,2.5045,90300.0\n",
      "-119.78,36.75,35.0,2114.0,506.0,2050.0,474.0,1.2375,50000.0\n",
      "-119.78,36.75,31.0,1404.0,379.0,1515.0,387.0,1.2813,56400.0\n",
      "-119.79,36.74,35.0,853.0,296.0,1228.0,289.0,1.0513,39600.0\n"
     ]
    }
   ],
   "source": [
    "# in text mode\n",
    "with open(train_filepath[2], \"r\") as f:\n",
    "    for i in range(5):\n",
    "        print(f.readline(), end=\"\")"
   ]
  },
  {
   "cell_type": "code",
   "execution_count": 58,
   "id": "a14c7065-adaf-4f76-bd49-c1f96cf65bda",
   "metadata": {},
   "outputs": [],
   "source": [
    "# list_files functions shuffles the file path automaticlly\n",
    "file_path = tf.data.Dataset.list_files(train_filepath, seed=42) "
   ]
  },
  {
   "cell_type": "code",
   "execution_count": 61,
   "id": "ec9a336d-ad2e-46ca-a5ed-02f32f77e705",
   "metadata": {},
   "outputs": [],
   "source": [
    "# interleave methods calls certin number of file to read from\n",
    "# TextLineDataset read from files one by one\n",
    "n_reader = 5\n",
    "dataset = file_path.interleave(lambda file_path: tf.data.TextLineDataset(file_path).skip(1),\n",
    "                               cycle_length=n_reader)"
   ]
  },
  {
   "cell_type": "code",
   "execution_count": 62,
   "id": "e2d62745-f5b1-47b0-bb40-8138a29f1ec7",
   "metadata": {},
   "outputs": [
    {
     "name": "stdout",
     "output_type": "stream",
     "text": [
      "b'-119.03,35.3,10.0,829.0,146.0,447.0,173.0,4.1484,102900.0'\n",
      "b'-119.78,36.74,15.0,1461.0,415.0,924.0,356.0,2.5045,90300.0'\n",
      "b'-121.76,37.69,29.0,3433.0,711.0,1919.0,709.0,3.3841,184400.0'\n",
      "b'-118.04,33.96,42.0,1430.0,338.0,1269.0,321.0,3.3214,148800.0'\n",
      "b'-118.13,33.85,36.0,2110.0,416.0,1128.0,403.0,4.6019,208400.0'\n",
      "b'-119.02,35.3,10.0,7397.0,1369.0,4611.0,1310.0,3.6369,81600.0'\n",
      "b'-119.78,36.75,35.0,2114.0,506.0,2050.0,474.0,1.2375,50000.0'\n",
      "b'-121.77,37.68,36.0,1687.0,372.0,950.0,372.0,3.5532,158400.0'\n",
      "b'-118.05,33.96,37.0,2622.0,652.0,2778.0,644.0,2.9714,160300.0'\n",
      "b'-118.13,33.85,36.0,1885.0,391.0,1049.0,405.0,3.55,212800.0'\n"
     ]
    }
   ],
   "source": [
    "for line in dataset.take(10):\n",
    "    print(line.numpy())"
   ]
  },
  {
   "cell_type": "code",
   "execution_count": null,
   "id": "35780408-3901-4187-8c41-fbe61f5b903b",
   "metadata": {},
   "outputs": [],
   "source": []
  }
 ],
 "metadata": {
  "kernelspec": {
   "display_name": "Python 3 (ipykernel)",
   "language": "python",
   "name": "python3"
  },
  "language_info": {
   "codemirror_mode": {
    "name": "ipython",
    "version": 3
   },
   "file_extension": ".py",
   "mimetype": "text/x-python",
   "name": "python",
   "nbconvert_exporter": "python",
   "pygments_lexer": "ipython3",
   "version": "3.9.13"
  }
 },
 "nbformat": 4,
 "nbformat_minor": 5
}
