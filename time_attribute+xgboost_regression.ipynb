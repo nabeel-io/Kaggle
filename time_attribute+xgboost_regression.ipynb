{
 "cells": [
  {
   "cell_type": "code",
   "execution_count": 67,
   "id": "5f92e380-948d-4483-b6f8-4492548aa965",
   "metadata": {},
   "outputs": [],
   "source": [
    "import numpy as np\n",
    "import pandas as pd\n",
    "import matplotlib.pyplot as plt\n",
    "import seaborn as sns"
   ]
  },
  {
   "cell_type": "code",
   "execution_count": 68,
   "id": "58c94292-6b71-439f-ace9-1d652a4a40cd",
   "metadata": {},
   "outputs": [],
   "source": [
    "train = pd.read_csv('data/train.csv')\n",
    "test = pd.read_csv('data/test.csv')"
   ]
  },
  {
   "cell_type": "code",
   "execution_count": 69,
   "id": "57b5d198-63c1-4d48-ab01-5121646c1f5b",
   "metadata": {},
   "outputs": [],
   "source": [
    "train = train.set_index('row_id')\n",
    "test = test.set_index('row_id')"
   ]
  },
  {
   "cell_type": "code",
   "execution_count": 70,
   "id": "b4b26789-a43f-4c38-b783-3d6d4f922474",
   "metadata": {},
   "outputs": [
    {
     "data": {
      "text/html": [
       "<div>\n",
       "<style scoped>\n",
       "    .dataframe tbody tr th:only-of-type {\n",
       "        vertical-align: middle;\n",
       "    }\n",
       "\n",
       "    .dataframe tbody tr th {\n",
       "        vertical-align: top;\n",
       "    }\n",
       "\n",
       "    .dataframe thead th {\n",
       "        text-align: right;\n",
       "    }\n",
       "</style>\n",
       "<table border=\"1\" class=\"dataframe\">\n",
       "  <thead>\n",
       "    <tr style=\"text-align: right;\">\n",
       "      <th></th>\n",
       "      <th>time</th>\n",
       "      <th>x</th>\n",
       "      <th>y</th>\n",
       "      <th>direction</th>\n",
       "      <th>congestion</th>\n",
       "    </tr>\n",
       "    <tr>\n",
       "      <th>row_id</th>\n",
       "      <th></th>\n",
       "      <th></th>\n",
       "      <th></th>\n",
       "      <th></th>\n",
       "      <th></th>\n",
       "    </tr>\n",
       "  </thead>\n",
       "  <tbody>\n",
       "    <tr>\n",
       "      <th>0</th>\n",
       "      <td>1991-04-01 00:00:00</td>\n",
       "      <td>0</td>\n",
       "      <td>0</td>\n",
       "      <td>EB</td>\n",
       "      <td>70</td>\n",
       "    </tr>\n",
       "    <tr>\n",
       "      <th>1</th>\n",
       "      <td>1991-04-01 00:00:00</td>\n",
       "      <td>0</td>\n",
       "      <td>0</td>\n",
       "      <td>NB</td>\n",
       "      <td>49</td>\n",
       "    </tr>\n",
       "    <tr>\n",
       "      <th>2</th>\n",
       "      <td>1991-04-01 00:00:00</td>\n",
       "      <td>0</td>\n",
       "      <td>0</td>\n",
       "      <td>SB</td>\n",
       "      <td>24</td>\n",
       "    </tr>\n",
       "    <tr>\n",
       "      <th>3</th>\n",
       "      <td>1991-04-01 00:00:00</td>\n",
       "      <td>0</td>\n",
       "      <td>1</td>\n",
       "      <td>EB</td>\n",
       "      <td>18</td>\n",
       "    </tr>\n",
       "    <tr>\n",
       "      <th>4</th>\n",
       "      <td>1991-04-01 00:00:00</td>\n",
       "      <td>0</td>\n",
       "      <td>1</td>\n",
       "      <td>NB</td>\n",
       "      <td>60</td>\n",
       "    </tr>\n",
       "    <tr>\n",
       "      <th>5</th>\n",
       "      <td>1991-04-01 00:00:00</td>\n",
       "      <td>0</td>\n",
       "      <td>1</td>\n",
       "      <td>SB</td>\n",
       "      <td>58</td>\n",
       "    </tr>\n",
       "    <tr>\n",
       "      <th>6</th>\n",
       "      <td>1991-04-01 00:00:00</td>\n",
       "      <td>0</td>\n",
       "      <td>1</td>\n",
       "      <td>WB</td>\n",
       "      <td>26</td>\n",
       "    </tr>\n",
       "    <tr>\n",
       "      <th>7</th>\n",
       "      <td>1991-04-01 00:00:00</td>\n",
       "      <td>0</td>\n",
       "      <td>2</td>\n",
       "      <td>EB</td>\n",
       "      <td>31</td>\n",
       "    </tr>\n",
       "    <tr>\n",
       "      <th>8</th>\n",
       "      <td>1991-04-01 00:00:00</td>\n",
       "      <td>0</td>\n",
       "      <td>2</td>\n",
       "      <td>NB</td>\n",
       "      <td>49</td>\n",
       "    </tr>\n",
       "    <tr>\n",
       "      <th>9</th>\n",
       "      <td>1991-04-01 00:00:00</td>\n",
       "      <td>0</td>\n",
       "      <td>2</td>\n",
       "      <td>SB</td>\n",
       "      <td>46</td>\n",
       "    </tr>\n",
       "  </tbody>\n",
       "</table>\n",
       "</div>"
      ],
      "text/plain": [
       "                       time  x  y direction  congestion\n",
       "row_id                                                 \n",
       "0       1991-04-01 00:00:00  0  0        EB          70\n",
       "1       1991-04-01 00:00:00  0  0        NB          49\n",
       "2       1991-04-01 00:00:00  0  0        SB          24\n",
       "3       1991-04-01 00:00:00  0  1        EB          18\n",
       "4       1991-04-01 00:00:00  0  1        NB          60\n",
       "5       1991-04-01 00:00:00  0  1        SB          58\n",
       "6       1991-04-01 00:00:00  0  1        WB          26\n",
       "7       1991-04-01 00:00:00  0  2        EB          31\n",
       "8       1991-04-01 00:00:00  0  2        NB          49\n",
       "9       1991-04-01 00:00:00  0  2        SB          46"
      ]
     },
     "execution_count": 70,
     "metadata": {},
     "output_type": "execute_result"
    }
   ],
   "source": [
    "train.head(10)"
   ]
  },
  {
   "cell_type": "code",
   "execution_count": 71,
   "id": "567db65c-87db-42df-ac64-4617e208922f",
   "metadata": {},
   "outputs": [],
   "source": [
    "# lot of informtion is packed in time column lets unpack it\n",
    "def split_data(df,split_list, col_name, split_char):\n",
    "    x = 0\n",
    "    for element in split_list:\n",
    "        df[element] = df[col_name].str.split(split_char, expand=True)[x]\n",
    "        x = x + 1"
   ]
  },
  {
   "cell_type": "code",
   "execution_count": 72,
   "id": "90a72c27-a9cd-49be-b985-5bd47d3938fc",
   "metadata": {},
   "outputs": [],
   "source": [
    "split_data(train, ['date', 'time'], 'time', ' ')\n",
    "split_data(train, ['year','month','day'], 'date', '-')\n",
    "split_data(train, ['hours','minutes','seconds'],'time',':')"
   ]
  },
  {
   "cell_type": "code",
   "execution_count": 73,
   "id": "a5a666a2-2717-4075-b71f-7397640c5358",
   "metadata": {},
   "outputs": [],
   "source": [
    "# changing date format\n",
    "train['date'] = pd.to_datetime(train['date'])\n",
    "train['week_day'] = train['date'].dt.day_name()"
   ]
  },
  {
   "cell_type": "code",
   "execution_count": 74,
   "id": "6129063e-77b3-4aab-ab8c-94adeebfeec8",
   "metadata": {},
   "outputs": [],
   "source": [
    "#  droping unneccesary columns\n",
    "train = train.drop(['time','date', 'year', 'seconds'], axis = 1)"
   ]
  },
  {
   "cell_type": "code",
   "execution_count": 75,
   "id": "8db04bca-4b21-4531-9c4e-f0cc2373e198",
   "metadata": {},
   "outputs": [],
   "source": [
    "# reindexing column positions\n",
    "train = train[['month','week_day','day', 'hours', 'minutes', 'x','y','direction', 'congestion']]"
   ]
  },
  {
   "cell_type": "code",
   "execution_count": 76,
   "id": "73ab447b-f8ef-4a63-bb94-fc7d393cc260",
   "metadata": {},
   "outputs": [
    {
     "name": "stdout",
     "output_type": "stream",
     "text": [
      "month\n",
      "['04' '05' '06' '07' '08' '09']\n",
      "week_day\n",
      "['Monday' 'Tuesday' 'Wednesday' 'Thursday' 'Friday' 'Saturday' 'Sunday']\n",
      "day\n",
      "['01' '02' '03' '04' '05' '06' '07' '08' '09' '10' '11' '12' '13' '14'\n",
      " '15' '16' '17' '18' '19' '20' '21' '22' '23' '24' '25' '26' '27' '28'\n",
      " '29' '30' '31']\n",
      "hours\n",
      "['00' '01' '02' '03' '04' '05' '06' '07' '08' '09' '10' '11' '12' '13'\n",
      " '14' '15' '16' '17' '18' '19' '20' '21' '22' '23']\n",
      "minutes\n",
      "['00' '20' '40']\n",
      "x\n",
      "[0 1 2]\n",
      "y\n",
      "[0 1 2 3]\n",
      "direction\n",
      "['EB' 'NB' 'SB' 'WB' 'NE' 'SW' 'NW' 'SE']\n",
      "congestion\n",
      "[ 70  49  24  18  60  58  26  31  46  29  16  21  47  51  74  43  44  52\n",
      "  32  77  39  63  53  28  54  41  37  15  61  65  22  34  45  42  50  36\n",
      "  64  30  55  57  40  33  17  48  71  69  10  67  80  91  35  56  59  38\n",
      "  78  27  79  20  83  62  25  19   7  82  75  76  85 100   2  88  12  89\n",
      "  73  11  81  72  13  84  23  92  14   6   8   9  66  68   5   0  95  87\n",
      "  90  97  86  96  94   4  93   3   1  98  99]\n"
     ]
    }
   ],
   "source": [
    "# unique elements in dataframe\n",
    "for col in train.columns:\n",
    "    print(col)\n",
    "    print(train[col].unique())"
   ]
  },
  {
   "cell_type": "code",
   "execution_count": 77,
   "id": "eba68208-dd17-49da-baff-7b972e5964f2",
   "metadata": {},
   "outputs": [
    {
     "data": {
      "text/plain": [
       "<BarContainer object of 101 artists>"
      ]
     },
     "execution_count": 77,
     "metadata": {},
     "output_type": "execute_result"
    },
    {
     "data": {
      "image/png": "[encoded data removed]",
      "text/plain": [
       "<Figure size 720x360 with 1 Axes>"
      ]
     },
     "metadata": {
      "needs_background": "light"
     },
     "output_type": "display_data"
    }
   ],
   "source": [
    "# proportions of target variables\n",
    "cong = train['congestion'].value_counts()/len(train)\n",
    "plt.figure(figsize = (10,5))\n",
    "plt.bar(cong.index, cong, color = 'red')"
   ]
  },
  {
   "cell_type": "code",
   "execution_count": 78,
   "id": "75072e70-7a76-4b12-aaa4-e9178290b243",
   "metadata": {},
   "outputs": [],
   "source": [
    "# splitting the dataset in training and cross -validation dataset\n",
    "from sklearn.model_selection import StratifiedShuffleSplit\n",
    "split = StratifiedShuffleSplit(n_splits=1, test_size=0.20, random_state=1200)\n",
    "for train_index, cv_index in split.split(train, train['congestion']):\n",
    "    train_ = train.loc[train_index]\n",
    "    cv = train.loc[cv_index]"
   ]
  },
  {
   "cell_type": "code",
   "execution_count": 79,
   "id": "acb2bb58-4558-4eb4-b50d-be2cc792021e",
   "metadata": {},
   "outputs": [],
   "source": [
    "# encoding the variables\n",
    "from sklearn.preprocessing import OneHotEncoder\n",
    "enc = OneHotEncoder()\n",
    "x_train = enc.fit_transform(train_.iloc[:, :-1]).toarray()\n",
    "y_train = train_.iloc[:,-1]"
   ]
  },
  {
   "cell_type": "code",
   "execution_count": 80,
   "id": "4aa35dfd-ef54-4f31-a0e6-ffbd3e28c0bb",
   "metadata": {},
   "outputs": [],
   "source": [
    "x_cv = enc.transform(cv.iloc[:,:-1]).toarray()\n",
    "y_cv = cv.iloc[:,-1]"
   ]
  },
  {
   "cell_type": "code",
   "execution_count": 81,
   "id": "f5f1bc83-0623-4bfa-947f-5251b7ceeb80",
   "metadata": {},
   "outputs": [],
   "source": [
    "from sklearn.model_selection import GridSearchCV\n",
    "import xgboost as xgb"
   ]
  },
  {
   "cell_type": "code",
   "execution_count": 15,
   "id": "8bd2fc12-7a3b-4414-837e-e8655bf06b02",
   "metadata": {},
   "outputs": [],
   "source": [
    "params = { 'max_depth':[3,4,5,6],\n",
    "           'learning_rate':[0.01, 0.1, 0.2]}\n"
   ]
  },
  {
   "cell_type": "code",
   "execution_count": 16,
   "id": "0d734cd7-39e5-4b03-8b90-a73fafde5c61",
   "metadata": {},
   "outputs": [],
   "source": [
    "# best parameter search\n",
    "grid_search = GridSearchCV( estimator= xgb.XGBRegressor(objective ='reg:squarederror',\n",
    "                                                      seed = 12,\n",
    "                                                      subsample=0.5,\n",
    "                                                      colsample_bytree=0.5),\n",
    "                           param_grid = params,\n",
    "                           scoring = 'neg_mean_squared_error',\n",
    "                           verbose=3,\n",
    "                           cv=3)"
   ]
  },
  {
   "cell_type": "code",
   "execution_count": 22,
   "id": "f629968c-2bc7-4ae2-8120-f76f721de919",
   "metadata": {},
   "outputs": [
    {
     "ename": "NameError",
     "evalue": "name 'grid_search' is not defined",
     "output_type": "error",
     "traceback": [
      "\u001b[0;31m---------------------------------------------------------------------------\u001b[0m",
      "\u001b[0;31mNameError\u001b[0m                                 Traceback (most recent call last)",
      "\u001b[0;32m/tmp/ipykernel_2755/4062131074.py\u001b[0m in \u001b[0;36m<module>\u001b[0;34m\u001b[0m\n\u001b[0;32m----> 1\u001b[0;31m \u001b[0mgrid_search\u001b[0m\u001b[0;34m.\u001b[0m\u001b[0mfit\u001b[0m\u001b[0;34m(\u001b[0m\u001b[0mx_train\u001b[0m\u001b[0;34m,\u001b[0m\u001b[0my_train\u001b[0m\u001b[0;34m,\u001b[0m\u001b[0mearly_stopping\u001b[0m\u001b[0;34m=\u001b[0m\u001b[0;36m5\u001b[0m\u001b[0;34m)\u001b[0m\u001b[0;34m\u001b[0m\u001b[0;34m\u001b[0m\u001b[0m\n\u001b[0m",
      "\u001b[0;31mNameError\u001b[0m: name 'grid_search' is not defined"
     ]
    }
   ],
   "source": [
    "grid_search.fit(x_train,y_train)"
   ]
  },
  {
   "cell_type": "code",
   "execution_count": 18,
   "id": "5a10bb30-2b2f-4172-b97b-1903a326723d",
   "metadata": {},
   "outputs": [
    {
     "data": {
      "text/plain": [
       "{'learning_rate': 0.2, 'max_depth': 6}"
      ]
     },
     "execution_count": 18,
     "metadata": {},
     "output_type": "execute_result"
    }
   ],
   "source": [
    "grid_search.best_params_"
   ]
  },
  {
   "cell_type": "code",
   "execution_count": 82,
   "id": "b8867665-efc8-4c12-919a-42e53f7c7741",
   "metadata": {},
   "outputs": [],
   "source": [
    "# making test data consistent in structure with train data\n",
    "split_data(test, ['date', 'time'], 'time', ' ')\n",
    "split_data(test, ['year','month','day'], 'date', '-')\n",
    "split_data(test, ['hours','minutes','seconds'],'time',':')"
   ]
  },
  {
   "cell_type": "code",
   "execution_count": 83,
   "id": "3e8acce7-9a49-44a0-ba3d-bef54dc493af",
   "metadata": {},
   "outputs": [],
   "source": [
    "test['date'] = pd.to_datetime(test['date'])\n",
    "test['week_day'] = test['date'].dt.day_name()\n",
    "test = test.drop(['time','date', 'year', 'seconds'], axis = 1)\n",
    "test = test[['month','week_day','day', 'hours', 'minutes', 'x','y','direction']]\n",
    "index = test.index"
   ]
  },
  {
   "cell_type": "code",
   "execution_count": 84,
   "id": "e1773585-984d-4dc0-99fa-9c3ced2a1ccd",
   "metadata": {},
   "outputs": [],
   "source": [
    "test = enc.transform(test).toarray()"
   ]
  },
  {
   "cell_type": "code",
   "execution_count": 85,
   "id": "bed5a7e5-3f03-4f3b-8286-a4bc8a59003e",
   "metadata": {},
   "outputs": [],
   "source": [
    "# setting xgboost parameters\n",
    "xgbreg = xgb.XGBRegressor(objective='reg:squarederror',\n",
    "                          learning_rate=0.2,\n",
    "                          max_depth=6,\n",
    "                          reg_lambda = 1.0,\n",
    "                          subsample = 0.5,\n",
    "                          seed=12)"
   ]
  },
  {
   "cell_type": "code",
   "execution_count": 86,
   "id": "02ebb350-02f7-41ff-8255-8ac0b960b67c",
   "metadata": {
    "tags": []
   },
   "outputs": [
    {
     "name": "stdout",
     "output_type": "stream",
     "text": [
      "[0]\tvalidation_0-rmse:41.02385\n",
      "[1]\tvalidation_0-rmse:33.81119\n",
      "[2]\tvalidation_0-rmse:28.12892\n",
      "[3]\tvalidation_0-rmse:23.78673\n",
      "[4]\tvalidation_0-rmse:20.55464\n",
      "[5]\tvalidation_0-rmse:18.16320\n",
      "[6]\tvalidation_0-rmse:16.43446\n",
      "[7]\tvalidation_0-rmse:15.19395\n",
      "[8]\tvalidation_0-rmse:14.25936\n",
      "[9]\tvalidation_0-rmse:13.61901\n",
      "[10]\tvalidation_0-rmse:13.19407\n",
      "[11]\tvalidation_0-rmse:12.56710\n",
      "[12]\tvalidation_0-rmse:12.33723\n",
      "[13]\tvalidation_0-rmse:12.07307\n",
      "[14]\tvalidation_0-rmse:11.94540\n",
      "[15]\tvalidation_0-rmse:11.76927\n",
      "[16]\tvalidation_0-rmse:11.68558\n",
      "[17]\tvalidation_0-rmse:11.61985\n",
      "[18]\tvalidation_0-rmse:11.55593\n",
      "[19]\tvalidation_0-rmse:11.49165\n",
      "[20]\tvalidation_0-rmse:11.43037\n",
      "[21]\tvalidation_0-rmse:11.32436\n",
      "[22]\tvalidation_0-rmse:11.29276\n",
      "[23]\tvalidation_0-rmse:11.25154\n",
      "[24]\tvalidation_0-rmse:11.21744\n",
      "[25]\tvalidation_0-rmse:11.17436\n",
      "[26]\tvalidation_0-rmse:11.13818\n",
      "[27]\tvalidation_0-rmse:11.09759\n",
      "[28]\tvalidation_0-rmse:11.07302\n",
      "[29]\tvalidation_0-rmse:11.04881\n",
      "[30]\tvalidation_0-rmse:11.03170\n",
      "[31]\tvalidation_0-rmse:10.99250\n",
      "[32]\tvalidation_0-rmse:10.85419\n",
      "[33]\tvalidation_0-rmse:10.83697\n",
      "[34]\tvalidation_0-rmse:10.81522\n",
      "[35]\tvalidation_0-rmse:10.80588\n",
      "[36]\tvalidation_0-rmse:10.77277\n",
      "[37]\tvalidation_0-rmse:10.75829\n",
      "[38]\tvalidation_0-rmse:10.71856\n",
      "[39]\tvalidation_0-rmse:10.69844\n",
      "[40]\tvalidation_0-rmse:10.68783\n",
      "[41]\tvalidation_0-rmse:10.67306\n",
      "[42]\tvalidation_0-rmse:10.51342\n",
      "[43]\tvalidation_0-rmse:10.48955\n",
      "[44]\tvalidation_0-rmse:10.45907\n",
      "[45]\tvalidation_0-rmse:10.44064\n",
      "[46]\tvalidation_0-rmse:10.42714\n",
      "[47]\tvalidation_0-rmse:10.28472\n",
      "[48]\tvalidation_0-rmse:10.27303\n",
      "[49]\tvalidation_0-rmse:10.26194\n",
      "[50]\tvalidation_0-rmse:10.16653\n",
      "[51]\tvalidation_0-rmse:10.14344\n",
      "[52]\tvalidation_0-rmse:10.13285\n",
      "[53]\tvalidation_0-rmse:10.11620\n",
      "[54]\tvalidation_0-rmse:10.06858\n",
      "[55]\tvalidation_0-rmse:10.01295\n",
      "[56]\tvalidation_0-rmse:9.94440\n",
      "[57]\tvalidation_0-rmse:9.88561\n",
      "[58]\tvalidation_0-rmse:9.87425\n",
      "[59]\tvalidation_0-rmse:9.87020\n",
      "[60]\tvalidation_0-rmse:9.86499\n",
      "[61]\tvalidation_0-rmse:9.81290\n",
      "[62]\tvalidation_0-rmse:9.80931\n",
      "[63]\tvalidation_0-rmse:9.75021\n",
      "[64]\tvalidation_0-rmse:9.69690\n",
      "[65]\tvalidation_0-rmse:9.68517\n",
      "[66]\tvalidation_0-rmse:9.67970\n",
      "[67]\tvalidation_0-rmse:9.66342\n",
      "[68]\tvalidation_0-rmse:9.65715\n",
      "[69]\tvalidation_0-rmse:9.65268\n",
      "[70]\tvalidation_0-rmse:9.64273\n",
      "[71]\tvalidation_0-rmse:9.63846\n",
      "[72]\tvalidation_0-rmse:9.63342\n",
      "[73]\tvalidation_0-rmse:9.63043\n",
      "[74]\tvalidation_0-rmse:9.62411\n",
      "[75]\tvalidation_0-rmse:9.62020\n",
      "[76]\tvalidation_0-rmse:9.61640\n",
      "[77]\tvalidation_0-rmse:9.61058\n",
      "[78]\tvalidation_0-rmse:9.60897\n",
      "[79]\tvalidation_0-rmse:9.60496\n",
      "[80]\tvalidation_0-rmse:9.58995\n",
      "[81]\tvalidation_0-rmse:9.58888\n",
      "[82]\tvalidation_0-rmse:9.57567\n",
      "[83]\tvalidation_0-rmse:9.56415\n",
      "[84]\tvalidation_0-rmse:9.56069\n",
      "[85]\tvalidation_0-rmse:9.55840\n",
      "[86]\tvalidation_0-rmse:9.55351\n",
      "[87]\tvalidation_0-rmse:9.54803\n",
      "[88]\tvalidation_0-rmse:9.54115\n",
      "[89]\tvalidation_0-rmse:9.53337\n",
      "[90]\tvalidation_0-rmse:9.52177\n",
      "[91]\tvalidation_0-rmse:9.51051\n",
      "[92]\tvalidation_0-rmse:9.50604\n",
      "[93]\tvalidation_0-rmse:9.49348\n",
      "[94]\tvalidation_0-rmse:9.47575\n",
      "[95]\tvalidation_0-rmse:9.47470\n",
      "[96]\tvalidation_0-rmse:9.47254\n",
      "[97]\tvalidation_0-rmse:9.47072\n",
      "[98]\tvalidation_0-rmse:9.46344\n",
      "[99]\tvalidation_0-rmse:9.45230\n"
     ]
    },
    {
     "data": {
      "text/plain": [
       "XGBRegressor(base_score=0.5, booster='gbtree', colsample_bylevel=1,\n",
       "             colsample_bynode=1, colsample_bytree=1, enable_categorical=False,\n",
       "             gamma=0, gpu_id=-1, importance_type=None,\n",
       "             interaction_constraints='', learning_rate=0.2, max_delta_step=0,\n",
       "             max_depth=6, min_child_weight=1, missing=nan,\n",
       "             monotone_constraints='()', n_estimators=100, n_jobs=8,\n",
       "             num_parallel_tree=1, predictor='auto', random_state=12,\n",
       "             reg_alpha=0, reg_lambda=1.0, scale_pos_weight=1, seed=12,\n",
       "             subsample=0.5, tree_method='exact', validate_parameters=1,\n",
       "             verbosity=None)"
      ]
     },
     "execution_count": 86,
     "metadata": {},
     "output_type": "execute_result"
    }
   ],
   "source": [
    "# fitting data in xgboost \n",
    "xgbreg.fit(x_train,y_train,\n",
    "                   early_stopping_rounds=5,\n",
    "                   eval_metric='rmse',\n",
    "                   eval_set=[(x_cv,y_cv)])"
   ]
  },
  {
   "cell_type": "code",
   "execution_count": 87,
   "id": "c58666d4-eadf-4775-99a0-51fe095f279c",
   "metadata": {},
   "outputs": [],
   "source": [
    "x = enc.transform(train.iloc[:,:-1]).toarray()\n",
    "y = train.iloc[:,-1]\n",
    "model = xgbreg.fit(x,y)"
   ]
  },
  {
   "cell_type": "code",
   "execution_count": 88,
   "id": "d60e3b8e-57a4-4d3e-9127-17902b07bc49",
   "metadata": {},
   "outputs": [],
   "source": [
    "# making predictions for test data\n",
    "y_pred = model.predict(test)"
   ]
  },
  {
   "cell_type": "code",
   "execution_count": 89,
   "id": "e6425ffa-d4ce-4cb6-becb-b777a0addcce",
   "metadata": {},
   "outputs": [],
   "source": [
    "# saving the predictions\n",
    "prediction = pd.DataFrame({'row_id': index,\n",
    "                          'congestion': y_pred})"
   ]
  },
  {
   "cell_type": "code",
   "execution_count": 90,
   "id": "7248b399-92a5-4b24-aaa5-308a4fa7b27f",
   "metadata": {},
   "outputs": [],
   "source": [
    "# saving the file\n",
    "prediction.to_csv('submission.csv', index=False)"
   ]
  },
  {
   "cell_type": "code",
   "execution_count": null,
   "id": "b64a45b1-8389-4c08-90c5-e9944f24d54f",
   "metadata": {},
   "outputs": [],
   "source": []
  }
 ],
 "metadata": {
  "kernelspec": {
   "display_name": "Python 3 (ipykernel)",
   "language": "python",
   "name": "python3"
  },
  "language_info": {
   "codemirror_mode": {
    "name": "ipython",
    "version": 3
   },
   "file_extension": ".py",
   "mimetype": "text/x-python",
   "name": "python",
   "nbconvert_exporter": "python",
   "pygments_lexer": "ipython3",
   "version": "3.9.5"
  }
 },
 "nbformat": 4,
 "nbformat_minor": 5
}
